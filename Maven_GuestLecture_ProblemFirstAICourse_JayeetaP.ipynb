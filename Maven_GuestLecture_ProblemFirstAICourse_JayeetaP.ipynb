{
  "nbformat": 4,
  "nbformat_minor": 0,
  "metadata": {
    "colab": {
      "provenance": [],
      "include_colab_link": true
    },
    "kernelspec": {
      "name": "python3",
      "display_name": "Python 3"
    },
    "language_info": {
      "name": "python"
    },
    "widgets": {
      "application/vnd.jupyter.widget-state+json": {
        "b598ca045dbd4091935718c968274be6": {
          "model_module": "@jupyter-widgets/output",
          "model_name": "OutputModel",
          "model_module_version": "1.0.0",
          "state": {
            "_dom_classes": [],
            "_model_module": "@jupyter-widgets/output",
            "_model_module_version": "1.0.0",
            "_model_name": "OutputModel",
            "_view_count": null,
            "_view_module": "@jupyter-widgets/output",
            "_view_module_version": "1.0.0",
            "_view_name": "OutputView",
            "layout": "IPY_MODEL_a35567af2b2a4230944e4f033f903c22",
            "msg_id": "",
            "outputs": [
              {
                "output_type": "display_data",
                "data": {
                  "text/plain": "\u001b[32m▰▱▱▱▱▱▱\u001b[0m Thinking...\n\u001b[36m┏━\u001b[0m\u001b[36m Message \u001b[0m\u001b[36m━━━━━━━━━━━━━━━━━━━━━━━━━━━━━━━━━━━━━━━━━━━━━━━━━━━━━━━━━━━━━━━━━━━━━━━━━━━━━━━━━━━━━━━━━━━━━━━━━━━━━━\u001b[0m\u001b[36m━┓\u001b[0m\n\u001b[36m┃\u001b[0m                                                                                                                 \u001b[36m┃\u001b[0m\n\u001b[36m┃\u001b[0m \u001b[32mAnalyze the impact of AI developments on NVIDIA's stock (NVDA)\u001b[0m                                                  \u001b[36m┃\u001b[0m\n\u001b[36m┃\u001b[0m                                                                                                                 \u001b[36m┃\u001b[0m\n\u001b[36m┗━━━━━━━━━━━━━━━━━━━━━━━━━━━━━━━━━━━━━━━━━━━━━━━━━━━━━━━━━━━━━━━━━━━━━━━━━━━━━━━━━━━━━━━━━━━━━━━━━━━━━━━━━━━━━━━━━┛\u001b[0m\n\u001b[34m┏━\u001b[0m\u001b[34m Response (152.2s) \u001b[0m\u001b[34m━━━━━━━━━━━━━━━━━━━━━━━━━━━━━━━━━━━━━━━━━━━━━━━━━━━━━━━━━━━━━━━━━━━━━━━━━━━━━━━━━━━━━━━━━━━━\u001b[0m\u001b[34m━┓\u001b[0m\n\u001b[34m┃\u001b[0m                                                                                                                 \u001b[34m┃\u001b[0m\n\u001b[34m┃\u001b[0m                                                                                                                 \u001b[34m┃\u001b[0m\n\u001b[34m┃\u001b[0m \u001b[1;33m • \u001b[0mRunning: transfer_task_to_finance_agent(task_description=Analyze the impact of AI developments on NVIDIA's   \u001b[34m┃\u001b[0m\n\u001b[34m┃\u001b[0m \u001b[1;33m   \u001b[0mstock (NVDA), expected_output=Insights on how AI developments will affect NVDA's stock price and market      \u001b[34m┃\u001b[0m\n\u001b[34m┃\u001b[0m \u001b[1;33m   \u001b[0msentiment, additional_information=...)                                                                       \u001b[34m┃\u001b[0m\n\u001b[34m┃\u001b[0m \u001b[1;33m • \u001b[0mRunning: transfer_task_to_web_agent(task_description=Research current news on NVIDIA's AI developments and   \u001b[34m┃\u001b[0m\n\u001b[34m┃\u001b[0m \u001b[1;33m   \u001b[0mmarket competition, expected_output=Recent news and updates on NVIDIA's AI developments and market           \u001b[34m┃\u001b[0m\n\u001b[34m┃\u001b[0m \u001b[1;33m   \u001b[0mcompetition, additional_information=Include information on NVIDIA's competitors in the AI computing market.) \u001b[34m┃\u001b[0m\n\u001b[34m┃\u001b[0m \u001b[1;33m • \u001b[0mRunning: transfer_task_to_web_agent(task_description=Compile all information on NVIDIA's AI business and     \u001b[34m┃\u001b[0m\n\u001b[34m┃\u001b[0m \u001b[1;33m   \u001b[0mmarket position, expected_output=A comprehensive report on NVIDIA's AI business and market position,         \u001b[34m┃\u001b[0m\n\u001b[34m┃\u001b[0m \u001b[1;33m   \u001b[0madditional_information=Include information on NVIDIA's competitors, market trends, and regulatory news.)     \u001b[34m┃\u001b[0m\n\u001b[34m┃\u001b[0m                                                                                                                 \u001b[34m┃\u001b[0m\n\u001b[34m┃\u001b[0m In conclusion, based on the information gathered from our AI team, NVIDIA's stock price is expected to continue \u001b[34m┃\u001b[0m\n\u001b[34m┃\u001b[0m its upward trajectory driven by the company's strong growth prospects and dominance in the AI chip market.      \u001b[34m┃\u001b[0m\n\u001b[34m┃\u001b[0m However, there are also risks involved, such as rising competition from other companies and regulatory          \u001b[34m┃\u001b[0m\n\u001b[34m┃\u001b[0m challenges. As a result, investors should carefully evaluate the risks and benefits before making any           \u001b[34m┃\u001b[0m\n\u001b[34m┃\u001b[0m investment decisions.                                                                                           \u001b[34m┃\u001b[0m\n\u001b[34m┃\u001b[0m                                                                                                                 \u001b[34m┃\u001b[0m\n\u001b[34m┃\u001b[0m \u001b[1mRisk Factors:\u001b[0m                                                                                                   \u001b[34m┃\u001b[0m\n\u001b[34m┃\u001b[0m                                                                                                                 \u001b[34m┃\u001b[0m\n\u001b[34m┃\u001b[0m \u001b[1;33m • \u001b[0mRising competition from other companies in the AI chip market                                                \u001b[34m┃\u001b[0m\n\u001b[34m┃\u001b[0m \u001b[1;33m • \u001b[0mRegulatory challenges and sanctions                                                                          \u001b[34m┃\u001b[0m\n\u001b[34m┃\u001b[0m \u001b[1;33m • \u001b[0mVolatility in the stock price due to market sentiment and economic conditions                                \u001b[34m┃\u001b[0m\n\u001b[34m┃\u001b[0m                                                                                                                 \u001b[34m┃\u001b[0m\n\u001b[34m┃\u001b[0m \u001b[1mKey Takeaways:\u001b[0m                                                                                                  \u001b[34m┃\u001b[0m\n\u001b[34m┃\u001b[0m                                                                                                                 \u001b[34m┃\u001b[0m\n\u001b[34m┃\u001b[0m \u001b[1;33m • \u001b[0mNVIDIA's AI solutions are driving growth in the company's revenue and profit.                                \u001b[34m┃\u001b[0m\n\u001b[34m┃\u001b[0m \u001b[1;33m • \u001b[0mThe company's market position in the AI chip market is strong, but faces rising competition.                 \u001b[34m┃\u001b[0m\n\u001b[34m┃\u001b[0m \u001b[1;33m • \u001b[0mRegulatory challenges and sanctions pose risks to NVIDIA's business.                                         \u001b[34m┃\u001b[0m\n\u001b[34m┃\u001b[0m                                                                                                                 \u001b[34m┃\u001b[0m\n\u001b[34m┃\u001b[0m \u001b[1mRecommendations:\u001b[0m                                                                                                \u001b[34m┃\u001b[0m\n\u001b[34m┃\u001b[0m                                                                                                                 \u001b[34m┃\u001b[0m\n\u001b[34m┃\u001b[0m \u001b[1;33m • \u001b[0mInvestors should carefully evaluate the risks and benefits before investing in NVIDIA's stock.               \u001b[34m┃\u001b[0m\n\u001b[34m┃\u001b[0m \u001b[1;33m • \u001b[0mA long-term investment approach is recommended, given the company's strong growth prospects and dominance in \u001b[34m┃\u001b[0m\n\u001b[34m┃\u001b[0m \u001b[1;33m   \u001b[0mthe AI chip market.                                                                                          \u001b[34m┃\u001b[0m\n\u001b[34m┃\u001b[0m \u001b[1;33m • \u001b[0mA diversified investment portfolio is essential to minimize risk and maximize returns.                       \u001b[34m┃\u001b[0m\n\u001b[34m┃\u001b[0m                                                                                                                 \u001b[34m┃\u001b[0m\n\u001b[34m┗━━━━━━━━━━━━━━━━━━━━━━━━━━━━━━━━━━━━━━━━━━━━━━━━━━━━━━━━━━━━━━━━━━━━━━━━━━━━━━━━━━━━━━━━━━━━━━━━━━━━━━━━━━━━━━━━━┛\u001b[0m\n",
                  "text/html": "<pre style=\"white-space:pre;overflow-x:auto;line-height:normal;font-family:Menlo,'DejaVu Sans Mono',consolas,'Courier New',monospace\"><span style=\"color: #008000; text-decoration-color: #008000\">▰▱▱▱▱▱▱</span> Thinking...\n<span style=\"color: #008080; text-decoration-color: #008080\">┏━ Message ━━━━━━━━━━━━━━━━━━━━━━━━━━━━━━━━━━━━━━━━━━━━━━━━━━━━━━━━━━━━━━━━━━━━━━━━━━━━━━━━━━━━━━━━━━━━━━━━━━━━━━━┓</span>\n<span style=\"color: #008080; text-decoration-color: #008080\">┃</span>                                                                                                                 <span style=\"color: #008080; text-decoration-color: #008080\">┃</span>\n<span style=\"color: #008080; text-decoration-color: #008080\">┃</span> <span style=\"color: #008000; text-decoration-color: #008000\">Analyze the impact of AI developments on NVIDIA's stock (NVDA)</span>                                                  <span style=\"color: #008080; text-decoration-color: #008080\">┃</span>\n<span style=\"color: #008080; text-decoration-color: #008080\">┃</span>                                                                                                                 <span style=\"color: #008080; text-decoration-color: #008080\">┃</span>\n<span style=\"color: #008080; text-decoration-color: #008080\">┗━━━━━━━━━━━━━━━━━━━━━━━━━━━━━━━━━━━━━━━━━━━━━━━━━━━━━━━━━━━━━━━━━━━━━━━━━━━━━━━━━━━━━━━━━━━━━━━━━━━━━━━━━━━━━━━━━┛</span>\n<span style=\"color: #000080; text-decoration-color: #000080\">┏━ Response (152.2s) ━━━━━━━━━━━━━━━━━━━━━━━━━━━━━━━━━━━━━━━━━━━━━━━━━━━━━━━━━━━━━━━━━━━━━━━━━━━━━━━━━━━━━━━━━━━━━┓</span>\n<span style=\"color: #000080; text-decoration-color: #000080\">┃</span>                                                                                                                 <span style=\"color: #000080; text-decoration-color: #000080\">┃</span>\n<span style=\"color: #000080; text-decoration-color: #000080\">┃</span>                                                                                                                 <span style=\"color: #000080; text-decoration-color: #000080\">┃</span>\n<span style=\"color: #000080; text-decoration-color: #000080\">┃</span> <span style=\"color: #808000; text-decoration-color: #808000; font-weight: bold\"> • </span>Running: transfer_task_to_finance_agent(task_description=Analyze the impact of AI developments on NVIDIA's   <span style=\"color: #000080; text-decoration-color: #000080\">┃</span>\n<span style=\"color: #000080; text-decoration-color: #000080\">┃</span> <span style=\"color: #808000; text-decoration-color: #808000; font-weight: bold\">   </span>stock (NVDA), expected_output=Insights on how AI developments will affect NVDA's stock price and market      <span style=\"color: #000080; text-decoration-color: #000080\">┃</span>\n<span style=\"color: #000080; text-decoration-color: #000080\">┃</span> <span style=\"color: #808000; text-decoration-color: #808000; font-weight: bold\">   </span>sentiment, additional_information=...)                                                                       <span style=\"color: #000080; text-decoration-color: #000080\">┃</span>\n<span style=\"color: #000080; text-decoration-color: #000080\">┃</span> <span style=\"color: #808000; text-decoration-color: #808000; font-weight: bold\"> • </span>Running: transfer_task_to_web_agent(task_description=Research current news on NVIDIA's AI developments and   <span style=\"color: #000080; text-decoration-color: #000080\">┃</span>\n<span style=\"color: #000080; text-decoration-color: #000080\">┃</span> <span style=\"color: #808000; text-decoration-color: #808000; font-weight: bold\">   </span>market competition, expected_output=Recent news and updates on NVIDIA's AI developments and market           <span style=\"color: #000080; text-decoration-color: #000080\">┃</span>\n<span style=\"color: #000080; text-decoration-color: #000080\">┃</span> <span style=\"color: #808000; text-decoration-color: #808000; font-weight: bold\">   </span>competition, additional_information=Include information on NVIDIA's competitors in the AI computing market.) <span style=\"color: #000080; text-decoration-color: #000080\">┃</span>\n<span style=\"color: #000080; text-decoration-color: #000080\">┃</span> <span style=\"color: #808000; text-decoration-color: #808000; font-weight: bold\"> • </span>Running: transfer_task_to_web_agent(task_description=Compile all information on NVIDIA's AI business and     <span style=\"color: #000080; text-decoration-color: #000080\">┃</span>\n<span style=\"color: #000080; text-decoration-color: #000080\">┃</span> <span style=\"color: #808000; text-decoration-color: #808000; font-weight: bold\">   </span>market position, expected_output=A comprehensive report on NVIDIA's AI business and market position,         <span style=\"color: #000080; text-decoration-color: #000080\">┃</span>\n<span style=\"color: #000080; text-decoration-color: #000080\">┃</span> <span style=\"color: #808000; text-decoration-color: #808000; font-weight: bold\">   </span>additional_information=Include information on NVIDIA's competitors, market trends, and regulatory news.)     <span style=\"color: #000080; text-decoration-color: #000080\">┃</span>\n<span style=\"color: #000080; text-decoration-color: #000080\">┃</span>                                                                                                                 <span style=\"color: #000080; text-decoration-color: #000080\">┃</span>\n<span style=\"color: #000080; text-decoration-color: #000080\">┃</span> In conclusion, based on the information gathered from our AI team, NVIDIA's stock price is expected to continue <span style=\"color: #000080; text-decoration-color: #000080\">┃</span>\n<span style=\"color: #000080; text-decoration-color: #000080\">┃</span> its upward trajectory driven by the company's strong growth prospects and dominance in the AI chip market.      <span style=\"color: #000080; text-decoration-color: #000080\">┃</span>\n<span style=\"color: #000080; text-decoration-color: #000080\">┃</span> However, there are also risks involved, such as rising competition from other companies and regulatory          <span style=\"color: #000080; text-decoration-color: #000080\">┃</span>\n<span style=\"color: #000080; text-decoration-color: #000080\">┃</span> challenges. As a result, investors should carefully evaluate the risks and benefits before making any           <span style=\"color: #000080; text-decoration-color: #000080\">┃</span>\n<span style=\"color: #000080; text-decoration-color: #000080\">┃</span> investment decisions.                                                                                           <span style=\"color: #000080; text-decoration-color: #000080\">┃</span>\n<span style=\"color: #000080; text-decoration-color: #000080\">┃</span>                                                                                                                 <span style=\"color: #000080; text-decoration-color: #000080\">┃</span>\n<span style=\"color: #000080; text-decoration-color: #000080\">┃</span> <span style=\"font-weight: bold\">Risk Factors:</span>                                                                                                   <span style=\"color: #000080; text-decoration-color: #000080\">┃</span>\n<span style=\"color: #000080; text-decoration-color: #000080\">┃</span>                                                                                                                 <span style=\"color: #000080; text-decoration-color: #000080\">┃</span>\n<span style=\"color: #000080; text-decoration-color: #000080\">┃</span> <span style=\"color: #808000; text-decoration-color: #808000; font-weight: bold\"> • </span>Rising competition from other companies in the AI chip market                                                <span style=\"color: #000080; text-decoration-color: #000080\">┃</span>\n<span style=\"color: #000080; text-decoration-color: #000080\">┃</span> <span style=\"color: #808000; text-decoration-color: #808000; font-weight: bold\"> • </span>Regulatory challenges and sanctions                                                                          <span style=\"color: #000080; text-decoration-color: #000080\">┃</span>\n<span style=\"color: #000080; text-decoration-color: #000080\">┃</span> <span style=\"color: #808000; text-decoration-color: #808000; font-weight: bold\"> • </span>Volatility in the stock price due to market sentiment and economic conditions                                <span style=\"color: #000080; text-decoration-color: #000080\">┃</span>\n<span style=\"color: #000080; text-decoration-color: #000080\">┃</span>                                                                                                                 <span style=\"color: #000080; text-decoration-color: #000080\">┃</span>\n<span style=\"color: #000080; text-decoration-color: #000080\">┃</span> <span style=\"font-weight: bold\">Key Takeaways:</span>                                                                                                  <span style=\"color: #000080; text-decoration-color: #000080\">┃</span>\n<span style=\"color: #000080; text-decoration-color: #000080\">┃</span>                                                                                                                 <span style=\"color: #000080; text-decoration-color: #000080\">┃</span>\n<span style=\"color: #000080; text-decoration-color: #000080\">┃</span> <span style=\"color: #808000; text-decoration-color: #808000; font-weight: bold\"> • </span>NVIDIA's AI solutions are driving growth in the company's revenue and profit.                                <span style=\"color: #000080; text-decoration-color: #000080\">┃</span>\n<span style=\"color: #000080; text-decoration-color: #000080\">┃</span> <span style=\"color: #808000; text-decoration-color: #808000; font-weight: bold\"> • </span>The company's market position in the AI chip market is strong, but faces rising competition.                 <span style=\"color: #000080; text-decoration-color: #000080\">┃</span>\n<span style=\"color: #000080; text-decoration-color: #000080\">┃</span> <span style=\"color: #808000; text-decoration-color: #808000; font-weight: bold\"> • </span>Regulatory challenges and sanctions pose risks to NVIDIA's business.                                         <span style=\"color: #000080; text-decoration-color: #000080\">┃</span>\n<span style=\"color: #000080; text-decoration-color: #000080\">┃</span>                                                                                                                 <span style=\"color: #000080; text-decoration-color: #000080\">┃</span>\n<span style=\"color: #000080; text-decoration-color: #000080\">┃</span> <span style=\"font-weight: bold\">Recommendations:</span>                                                                                                <span style=\"color: #000080; text-decoration-color: #000080\">┃</span>\n<span style=\"color: #000080; text-decoration-color: #000080\">┃</span>                                                                                                                 <span style=\"color: #000080; text-decoration-color: #000080\">┃</span>\n<span style=\"color: #000080; text-decoration-color: #000080\">┃</span> <span style=\"color: #808000; text-decoration-color: #808000; font-weight: bold\"> • </span>Investors should carefully evaluate the risks and benefits before investing in NVIDIA's stock.               <span style=\"color: #000080; text-decoration-color: #000080\">┃</span>\n<span style=\"color: #000080; text-decoration-color: #000080\">┃</span> <span style=\"color: #808000; text-decoration-color: #808000; font-weight: bold\"> • </span>A long-term investment approach is recommended, given the company's strong growth prospects and dominance in <span style=\"color: #000080; text-decoration-color: #000080\">┃</span>\n<span style=\"color: #000080; text-decoration-color: #000080\">┃</span> <span style=\"color: #808000; text-decoration-color: #808000; font-weight: bold\">   </span>the AI chip market.                                                                                          <span style=\"color: #000080; text-decoration-color: #000080\">┃</span>\n<span style=\"color: #000080; text-decoration-color: #000080\">┃</span> <span style=\"color: #808000; text-decoration-color: #808000; font-weight: bold\"> • </span>A diversified investment portfolio is essential to minimize risk and maximize returns.                       <span style=\"color: #000080; text-decoration-color: #000080\">┃</span>\n<span style=\"color: #000080; text-decoration-color: #000080\">┃</span>                                                                                                                 <span style=\"color: #000080; text-decoration-color: #000080\">┃</span>\n<span style=\"color: #000080; text-decoration-color: #000080\">┗━━━━━━━━━━━━━━━━━━━━━━━━━━━━━━━━━━━━━━━━━━━━━━━━━━━━━━━━━━━━━━━━━━━━━━━━━━━━━━━━━━━━━━━━━━━━━━━━━━━━━━━━━━━━━━━━━┛</span>\n</pre>\n"
                },
                "metadata": {}
              }
            ]
          }
        },
        "a35567af2b2a4230944e4f033f903c22": {
          "model_module": "@jupyter-widgets/base",
          "model_name": "LayoutModel",
          "model_module_version": "1.2.0",
          "state": {
            "_model_module": "@jupyter-widgets/base",
            "_model_module_version": "1.2.0",
            "_model_name": "LayoutModel",
            "_view_count": null,
            "_view_module": "@jupyter-widgets/base",
            "_view_module_version": "1.2.0",
            "_view_name": "LayoutView",
            "align_content": null,
            "align_items": null,
            "align_self": null,
            "border": null,
            "bottom": null,
            "display": null,
            "flex": null,
            "flex_flow": null,
            "grid_area": null,
            "grid_auto_columns": null,
            "grid_auto_flow": null,
            "grid_auto_rows": null,
            "grid_column": null,
            "grid_gap": null,
            "grid_row": null,
            "grid_template_areas": null,
            "grid_template_columns": null,
            "grid_template_rows": null,
            "height": null,
            "justify_content": null,
            "justify_items": null,
            "left": null,
            "margin": null,
            "max_height": null,
            "max_width": null,
            "min_height": null,
            "min_width": null,
            "object_fit": null,
            "object_position": null,
            "order": null,
            "overflow": null,
            "overflow_x": null,
            "overflow_y": null,
            "padding": null,
            "right": null,
            "top": null,
            "visibility": null,
            "width": null
          }
        }
      }
    }
  },
  "cells": [
    {
      "cell_type": "markdown",
      "metadata": {
        "id": "view-in-github",
        "colab_type": "text"
      },
      "source": [
        "<a href=\"https://colab.research.google.com/github/vandatthang/aws-cloud-for-beginner/blob/master/Maven_GuestLecture_ProblemFirstAICourse_JayeetaP.ipynb\" target=\"_parent\"><img src=\"https://colab.research.google.com/assets/colab-badge.svg\" alt=\"Open In Colab\"/></a>"
      ]
    },
    {
      "cell_type": "markdown",
      "source": [
        "\n",
        "\n",
        "# Welcome to Building Financial AI Agents, Problem First 😀\n",
        "\n",
        "**Please DUPLICATE the notebook before running!**\n",
        "\n",
        "###Code for the Guest Lecture by: Jayeeta Putatunda\n",
        "###Date: March 12, 2025\n",
        "\n",
        "\n",
        "\n"
      ],
      "metadata": {
        "id": "GqoZRxZr_zax"
      }
    },
    {
      "cell_type": "markdown",
      "source": [
        "##Goal of this hands-on code section:"
      ],
      "metadata": {
        "id": "YcD9EdWyBHDI"
      }
    },
    {
      "cell_type": "markdown",
      "source": [
        "\n",
        "1. Build AI Solutions to handle various financial tasks\n",
        "\n",
        "2. TWO main solutions:\n",
        "  - Simple RAG based query for Doc QA\n",
        "  - Deep Financial Research multi-AI Agents"
      ],
      "metadata": {
        "id": "5u1j2SLCirtY"
      }
    },
    {
      "cell_type": "markdown",
      "source": [
        "##Open-Source Tech Stack:"
      ],
      "metadata": {
        "id": "ikCKNBG3BPaW"
      }
    },
    {
      "cell_type": "markdown",
      "source": [
        "\n",
        "- Fast OS LLM Inference [Groq]: https://groq.com/\n",
        "- Agentic Framework [Agno]: https://www.agno.com/\n",
        "- Vector Database [Weaviate]: https://weaviate.io/\n",
        "- Embeddings [Sentence-transformers]: https://huggingface.co/sentence-transformers\n",
        "- Websearch [DuckDuckGo]: https://github.com/duckduckgo"
      ],
      "metadata": {
        "id": "7hOK8nE_BPEG"
      }
    },
    {
      "cell_type": "markdown",
      "source": [
        "## Install Required Packages"
      ],
      "metadata": {
        "id": "g9IJHxxqBat6"
      }
    },
    {
      "cell_type": "code",
      "execution_count": null,
      "metadata": {
        "colab": {
          "base_uri": "https://localhost:8080/"
        },
        "collapsed": true,
        "id": "yzQNP1GT_Y5A",
        "outputId": "cd0464e1-5544-4ca5-b7c4-f3c537498a4a"
      },
      "outputs": [
        {
          "output_type": "stream",
          "name": "stdout",
          "text": [
            "Requirement already satisfied: groq in /usr/local/lib/python3.11/dist-packages (0.19.0)\n",
            "Requirement already satisfied: yfinance in /usr/local/lib/python3.11/dist-packages (0.2.54)\n",
            "Requirement already satisfied: agno in /usr/local/lib/python3.11/dist-packages (1.1.10)\n",
            "Requirement already satisfied: anyio<5,>=3.5.0 in /usr/local/lib/python3.11/dist-packages (from groq) (3.7.1)\n",
            "Requirement already satisfied: distro<2,>=1.7.0 in /usr/local/lib/python3.11/dist-packages (from groq) (1.9.0)\n",
            "Requirement already satisfied: httpx<1,>=0.23.0 in /usr/local/lib/python3.11/dist-packages (from groq) (0.28.1)\n",
            "Requirement already satisfied: pydantic<3,>=1.9.0 in /usr/local/lib/python3.11/dist-packages (from groq) (2.10.6)\n",
            "Requirement already satisfied: sniffio in /usr/local/lib/python3.11/dist-packages (from groq) (1.3.1)\n",
            "Requirement already satisfied: typing-extensions<5,>=4.10 in /usr/local/lib/python3.11/dist-packages (from groq) (4.12.2)\n",
            "Requirement already satisfied: pandas>=1.3.0 in /usr/local/lib/python3.11/dist-packages (from yfinance) (2.2.2)\n",
            "Requirement already satisfied: numpy>=1.16.5 in /usr/local/lib/python3.11/dist-packages (from yfinance) (1.26.4)\n",
            "Requirement already satisfied: requests>=2.31 in /usr/local/lib/python3.11/dist-packages (from yfinance) (2.32.3)\n",
            "Requirement already satisfied: multitasking>=0.0.7 in /usr/local/lib/python3.11/dist-packages (from yfinance) (0.0.11)\n",
            "Requirement already satisfied: platformdirs>=2.0.0 in /usr/local/lib/python3.11/dist-packages (from yfinance) (4.3.6)\n",
            "Requirement already satisfied: pytz>=2022.5 in /usr/local/lib/python3.11/dist-packages (from yfinance) (2025.1)\n",
            "Requirement already satisfied: frozendict>=2.3.4 in /usr/local/lib/python3.11/dist-packages (from yfinance) (2.4.6)\n",
            "Requirement already satisfied: peewee>=3.16.2 in /usr/local/lib/python3.11/dist-packages (from yfinance) (3.17.9)\n",
            "Requirement already satisfied: beautifulsoup4>=4.11.1 in /usr/local/lib/python3.11/dist-packages (from yfinance) (4.13.3)\n",
            "Requirement already satisfied: docstring-parser in /usr/local/lib/python3.11/dist-packages (from agno) (0.16)\n",
            "Requirement already satisfied: gitpython in /usr/local/lib/python3.11/dist-packages (from agno) (3.1.44)\n",
            "Requirement already satisfied: pydantic-settings in /usr/local/lib/python3.11/dist-packages (from agno) (2.8.1)\n",
            "Requirement already satisfied: python-dotenv in /usr/local/lib/python3.11/dist-packages (from agno) (1.0.1)\n",
            "Requirement already satisfied: python-multipart in /usr/local/lib/python3.11/dist-packages (from agno) (0.0.20)\n",
            "Requirement already satisfied: pyyaml in /usr/local/lib/python3.11/dist-packages (from agno) (6.0.2)\n",
            "Requirement already satisfied: rich in /usr/local/lib/python3.11/dist-packages (from agno) (13.9.4)\n",
            "Requirement already satisfied: tomli in /usr/local/lib/python3.11/dist-packages (from agno) (2.2.1)\n",
            "Requirement already satisfied: typer in /usr/local/lib/python3.11/dist-packages (from agno) (0.15.2)\n",
            "Requirement already satisfied: idna>=2.8 in /usr/local/lib/python3.11/dist-packages (from anyio<5,>=3.5.0->groq) (3.10)\n",
            "Requirement already satisfied: soupsieve>1.2 in /usr/local/lib/python3.11/dist-packages (from beautifulsoup4>=4.11.1->yfinance) (2.6)\n",
            "Requirement already satisfied: certifi in /usr/local/lib/python3.11/dist-packages (from httpx<1,>=0.23.0->groq) (2025.1.31)\n",
            "Requirement already satisfied: httpcore==1.* in /usr/local/lib/python3.11/dist-packages (from httpx<1,>=0.23.0->groq) (1.0.7)\n",
            "Requirement already satisfied: h11<0.15,>=0.13 in /usr/local/lib/python3.11/dist-packages (from httpcore==1.*->httpx<1,>=0.23.0->groq) (0.14.0)\n",
            "Requirement already satisfied: python-dateutil>=2.8.2 in /usr/local/lib/python3.11/dist-packages (from pandas>=1.3.0->yfinance) (2.8.2)\n",
            "Requirement already satisfied: tzdata>=2022.7 in /usr/local/lib/python3.11/dist-packages (from pandas>=1.3.0->yfinance) (2025.1)\n",
            "Requirement already satisfied: annotated-types>=0.6.0 in /usr/local/lib/python3.11/dist-packages (from pydantic<3,>=1.9.0->groq) (0.7.0)\n",
            "Requirement already satisfied: pydantic-core==2.27.2 in /usr/local/lib/python3.11/dist-packages (from pydantic<3,>=1.9.0->groq) (2.27.2)\n",
            "Requirement already satisfied: charset-normalizer<4,>=2 in /usr/local/lib/python3.11/dist-packages (from requests>=2.31->yfinance) (3.4.1)\n",
            "Requirement already satisfied: urllib3<3,>=1.21.1 in /usr/local/lib/python3.11/dist-packages (from requests>=2.31->yfinance) (2.3.0)\n",
            "Requirement already satisfied: gitdb<5,>=4.0.1 in /usr/local/lib/python3.11/dist-packages (from gitpython->agno) (4.0.12)\n",
            "Requirement already satisfied: markdown-it-py>=2.2.0 in /usr/local/lib/python3.11/dist-packages (from rich->agno) (3.0.0)\n",
            "Requirement already satisfied: pygments<3.0.0,>=2.13.0 in /usr/local/lib/python3.11/dist-packages (from rich->agno) (2.18.0)\n",
            "Requirement already satisfied: click>=8.0.0 in /usr/local/lib/python3.11/dist-packages (from typer->agno) (8.1.8)\n",
            "Requirement already satisfied: shellingham>=1.3.0 in /usr/local/lib/python3.11/dist-packages (from typer->agno) (1.5.4)\n",
            "Requirement already satisfied: smmap<6,>=3.0.1 in /usr/local/lib/python3.11/dist-packages (from gitdb<5,>=4.0.1->gitpython->agno) (5.0.2)\n",
            "Requirement already satisfied: mdurl~=0.1 in /usr/local/lib/python3.11/dist-packages (from markdown-it-py>=2.2.0->rich->agno) (0.1.2)\n",
            "Requirement already satisfied: six>=1.5 in /usr/local/lib/python3.11/dist-packages (from python-dateutil>=2.8.2->pandas>=1.3.0->yfinance) (1.17.0)\n",
            "Requirement already satisfied: groq in /usr/local/lib/python3.11/dist-packages (0.19.0)\n",
            "Requirement already satisfied: duckduckgo-search in /usr/local/lib/python3.11/dist-packages (7.5.1)\n",
            "Requirement already satisfied: newspaper4k in /usr/local/lib/python3.11/dist-packages (0.9.3.1)\n",
            "Requirement already satisfied: lxml_html_clean in /usr/local/lib/python3.11/dist-packages (0.4.1)\n",
            "Requirement already satisfied: agno in /usr/local/lib/python3.11/dist-packages (1.1.10)\n",
            "Requirement already satisfied: anyio<5,>=3.5.0 in /usr/local/lib/python3.11/dist-packages (from groq) (3.7.1)\n",
            "Requirement already satisfied: distro<2,>=1.7.0 in /usr/local/lib/python3.11/dist-packages (from groq) (1.9.0)\n",
            "Requirement already satisfied: httpx<1,>=0.23.0 in /usr/local/lib/python3.11/dist-packages (from groq) (0.28.1)\n",
            "Requirement already satisfied: pydantic<3,>=1.9.0 in /usr/local/lib/python3.11/dist-packages (from groq) (2.10.6)\n",
            "Requirement already satisfied: sniffio in /usr/local/lib/python3.11/dist-packages (from groq) (1.3.1)\n",
            "Requirement already satisfied: typing-extensions<5,>=4.10 in /usr/local/lib/python3.11/dist-packages (from groq) (4.12.2)\n",
            "Requirement already satisfied: click>=8.1.8 in /usr/local/lib/python3.11/dist-packages (from duckduckgo-search) (8.1.8)\n",
            "Requirement already satisfied: primp>=0.14.0 in /usr/local/lib/python3.11/dist-packages (from duckduckgo-search) (0.14.0)\n",
            "Requirement already satisfied: lxml>=5.3.0 in /usr/local/lib/python3.11/dist-packages (from duckduckgo-search) (5.3.1)\n",
            "Requirement already satisfied: Pillow>=4.0.0 in /usr/local/lib/python3.11/dist-packages (from newspaper4k) (11.1.0)\n",
            "Requirement already satisfied: PyYAML>=5.1 in /usr/local/lib/python3.11/dist-packages (from newspaper4k) (6.0.2)\n",
            "Requirement already satisfied: beautifulsoup4>=4.9.3 in /usr/local/lib/python3.11/dist-packages (from newspaper4k) (4.13.3)\n",
            "Requirement already satisfied: feedparser>=6.0.0 in /usr/local/lib/python3.11/dist-packages (from newspaper4k) (6.0.11)\n",
            "Requirement already satisfied: nltk>=3.6.6 in /usr/local/lib/python3.11/dist-packages (from newspaper4k) (3.9.1)\n",
            "Requirement already satisfied: numpy>=1.25 in /usr/local/lib/python3.11/dist-packages (from newspaper4k) (1.26.4)\n",
            "Requirement already satisfied: pandas>=2.1.0 in /usr/local/lib/python3.11/dist-packages (from newspaper4k) (2.2.2)\n",
            "Requirement already satisfied: python-dateutil>=2.6.1 in /usr/local/lib/python3.11/dist-packages (from newspaper4k) (2.8.2)\n",
            "Requirement already satisfied: requests>=2.26.0 in /usr/local/lib/python3.11/dist-packages (from newspaper4k) (2.32.3)\n",
            "Requirement already satisfied: tldextract>=2.0.1 in /usr/local/lib/python3.11/dist-packages (from newspaper4k) (5.1.3)\n",
            "Requirement already satisfied: docstring-parser in /usr/local/lib/python3.11/dist-packages (from agno) (0.16)\n",
            "Requirement already satisfied: gitpython in /usr/local/lib/python3.11/dist-packages (from agno) (3.1.44)\n",
            "Requirement already satisfied: pydantic-settings in /usr/local/lib/python3.11/dist-packages (from agno) (2.8.1)\n",
            "Requirement already satisfied: python-dotenv in /usr/local/lib/python3.11/dist-packages (from agno) (1.0.1)\n",
            "Requirement already satisfied: python-multipart in /usr/local/lib/python3.11/dist-packages (from agno) (0.0.20)\n",
            "Requirement already satisfied: rich in /usr/local/lib/python3.11/dist-packages (from agno) (13.9.4)\n",
            "Requirement already satisfied: tomli in /usr/local/lib/python3.11/dist-packages (from agno) (2.2.1)\n",
            "Requirement already satisfied: typer in /usr/local/lib/python3.11/dist-packages (from agno) (0.15.2)\n",
            "Requirement already satisfied: idna>=2.8 in /usr/local/lib/python3.11/dist-packages (from anyio<5,>=3.5.0->groq) (3.10)\n",
            "Requirement already satisfied: soupsieve>1.2 in /usr/local/lib/python3.11/dist-packages (from beautifulsoup4>=4.9.3->newspaper4k) (2.6)\n",
            "Requirement already satisfied: sgmllib3k in /usr/local/lib/python3.11/dist-packages (from feedparser>=6.0.0->newspaper4k) (1.0.0)\n",
            "Requirement already satisfied: certifi in /usr/local/lib/python3.11/dist-packages (from httpx<1,>=0.23.0->groq) (2025.1.31)\n",
            "Requirement already satisfied: httpcore==1.* in /usr/local/lib/python3.11/dist-packages (from httpx<1,>=0.23.0->groq) (1.0.7)\n",
            "Requirement already satisfied: h11<0.15,>=0.13 in /usr/local/lib/python3.11/dist-packages (from httpcore==1.*->httpx<1,>=0.23.0->groq) (0.14.0)\n",
            "Requirement already satisfied: joblib in /usr/local/lib/python3.11/dist-packages (from nltk>=3.6.6->newspaper4k) (1.4.2)\n",
            "Requirement already satisfied: regex>=2021.8.3 in /usr/local/lib/python3.11/dist-packages (from nltk>=3.6.6->newspaper4k) (2024.11.6)\n",
            "Requirement already satisfied: tqdm in /usr/local/lib/python3.11/dist-packages (from nltk>=3.6.6->newspaper4k) (4.67.1)\n",
            "Requirement already satisfied: pytz>=2020.1 in /usr/local/lib/python3.11/dist-packages (from pandas>=2.1.0->newspaper4k) (2025.1)\n",
            "Requirement already satisfied: tzdata>=2022.7 in /usr/local/lib/python3.11/dist-packages (from pandas>=2.1.0->newspaper4k) (2025.1)\n",
            "Requirement already satisfied: annotated-types>=0.6.0 in /usr/local/lib/python3.11/dist-packages (from pydantic<3,>=1.9.0->groq) (0.7.0)\n",
            "Requirement already satisfied: pydantic-core==2.27.2 in /usr/local/lib/python3.11/dist-packages (from pydantic<3,>=1.9.0->groq) (2.27.2)\n",
            "Requirement already satisfied: six>=1.5 in /usr/local/lib/python3.11/dist-packages (from python-dateutil>=2.6.1->newspaper4k) (1.17.0)\n",
            "Requirement already satisfied: charset-normalizer<4,>=2 in /usr/local/lib/python3.11/dist-packages (from requests>=2.26.0->newspaper4k) (3.4.1)\n",
            "Requirement already satisfied: urllib3<3,>=1.21.1 in /usr/local/lib/python3.11/dist-packages (from requests>=2.26.0->newspaper4k) (2.3.0)\n",
            "Requirement already satisfied: requests-file>=1.4 in /usr/local/lib/python3.11/dist-packages (from tldextract>=2.0.1->newspaper4k) (2.1.0)\n",
            "Requirement already satisfied: filelock>=3.0.8 in /usr/local/lib/python3.11/dist-packages (from tldextract>=2.0.1->newspaper4k) (3.17.0)\n",
            "Requirement already satisfied: gitdb<5,>=4.0.1 in /usr/local/lib/python3.11/dist-packages (from gitpython->agno) (4.0.12)\n",
            "Requirement already satisfied: markdown-it-py>=2.2.0 in /usr/local/lib/python3.11/dist-packages (from rich->agno) (3.0.0)\n",
            "Requirement already satisfied: pygments<3.0.0,>=2.13.0 in /usr/local/lib/python3.11/dist-packages (from rich->agno) (2.18.0)\n",
            "Requirement already satisfied: shellingham>=1.3.0 in /usr/local/lib/python3.11/dist-packages (from typer->agno) (1.5.4)\n",
            "Requirement already satisfied: smmap<6,>=3.0.1 in /usr/local/lib/python3.11/dist-packages (from gitdb<5,>=4.0.1->gitpython->agno) (5.0.2)\n",
            "Requirement already satisfied: mdurl~=0.1 in /usr/local/lib/python3.11/dist-packages (from markdown-it-py>=2.2.0->rich->agno) (0.1.2)\n",
            "Requirement already satisfied: pgvector in /usr/local/lib/python3.11/dist-packages (0.3.6)\n",
            "Requirement already satisfied: pypdf in /usr/local/lib/python3.11/dist-packages (5.3.1)\n",
            "Requirement already satisfied: agno in /usr/local/lib/python3.11/dist-packages (1.1.10)\n",
            "Requirement already satisfied: numpy in /usr/local/lib/python3.11/dist-packages (from pgvector) (1.26.4)\n",
            "Requirement already satisfied: docstring-parser in /usr/local/lib/python3.11/dist-packages (from agno) (0.16)\n",
            "Requirement already satisfied: gitpython in /usr/local/lib/python3.11/dist-packages (from agno) (3.1.44)\n",
            "Requirement already satisfied: httpx in /usr/local/lib/python3.11/dist-packages (from agno) (0.28.1)\n",
            "Requirement already satisfied: pydantic-settings in /usr/local/lib/python3.11/dist-packages (from agno) (2.8.1)\n",
            "Requirement already satisfied: pydantic in /usr/local/lib/python3.11/dist-packages (from agno) (2.10.6)\n",
            "Requirement already satisfied: python-dotenv in /usr/local/lib/python3.11/dist-packages (from agno) (1.0.1)\n",
            "Requirement already satisfied: python-multipart in /usr/local/lib/python3.11/dist-packages (from agno) (0.0.20)\n",
            "Requirement already satisfied: pyyaml in /usr/local/lib/python3.11/dist-packages (from agno) (6.0.2)\n",
            "Requirement already satisfied: rich in /usr/local/lib/python3.11/dist-packages (from agno) (13.9.4)\n",
            "Requirement already satisfied: tomli in /usr/local/lib/python3.11/dist-packages (from agno) (2.2.1)\n",
            "Requirement already satisfied: typer in /usr/local/lib/python3.11/dist-packages (from agno) (0.15.2)\n",
            "Requirement already satisfied: typing-extensions in /usr/local/lib/python3.11/dist-packages (from agno) (4.12.2)\n",
            "Requirement already satisfied: gitdb<5,>=4.0.1 in /usr/local/lib/python3.11/dist-packages (from gitpython->agno) (4.0.12)\n",
            "Requirement already satisfied: anyio in /usr/local/lib/python3.11/dist-packages (from httpx->agno) (3.7.1)\n",
            "Requirement already satisfied: certifi in /usr/local/lib/python3.11/dist-packages (from httpx->agno) (2025.1.31)\n",
            "Requirement already satisfied: httpcore==1.* in /usr/local/lib/python3.11/dist-packages (from httpx->agno) (1.0.7)\n",
            "Requirement already satisfied: idna in /usr/local/lib/python3.11/dist-packages (from httpx->agno) (3.10)\n",
            "Requirement already satisfied: h11<0.15,>=0.13 in /usr/local/lib/python3.11/dist-packages (from httpcore==1.*->httpx->agno) (0.14.0)\n",
            "Requirement already satisfied: annotated-types>=0.6.0 in /usr/local/lib/python3.11/dist-packages (from pydantic->agno) (0.7.0)\n",
            "Requirement already satisfied: pydantic-core==2.27.2 in /usr/local/lib/python3.11/dist-packages (from pydantic->agno) (2.27.2)\n",
            "Requirement already satisfied: markdown-it-py>=2.2.0 in /usr/local/lib/python3.11/dist-packages (from rich->agno) (3.0.0)\n",
            "Requirement already satisfied: pygments<3.0.0,>=2.13.0 in /usr/local/lib/python3.11/dist-packages (from rich->agno) (2.18.0)\n",
            "Requirement already satisfied: click>=8.0.0 in /usr/local/lib/python3.11/dist-packages (from typer->agno) (8.1.8)\n",
            "Requirement already satisfied: shellingham>=1.3.0 in /usr/local/lib/python3.11/dist-packages (from typer->agno) (1.5.4)\n",
            "Requirement already satisfied: smmap<6,>=3.0.1 in /usr/local/lib/python3.11/dist-packages (from gitdb<5,>=4.0.1->gitpython->agno) (5.0.2)\n",
            "Requirement already satisfied: mdurl~=0.1 in /usr/local/lib/python3.11/dist-packages (from markdown-it-py>=2.2.0->rich->agno) (0.1.2)\n",
            "Requirement already satisfied: sniffio>=1.1 in /usr/local/lib/python3.11/dist-packages (from anyio->httpx->agno) (1.3.1)\n",
            "Requirement already satisfied: udocker in /usr/local/lib/python3.11/dist-packages (1.3.17)\n",
            "Requirement already satisfied: sentence-transformers in /usr/local/lib/python3.11/dist-packages (3.4.1)\n",
            "Requirement already satisfied: transformers<5.0.0,>=4.41.0 in /usr/local/lib/python3.11/dist-packages (from sentence-transformers) (4.48.3)\n",
            "Requirement already satisfied: tqdm in /usr/local/lib/python3.11/dist-packages (from sentence-transformers) (4.67.1)\n",
            "Requirement already satisfied: torch>=1.11.0 in /usr/local/lib/python3.11/dist-packages (from sentence-transformers) (2.5.1+cu124)\n",
            "Requirement already satisfied: scikit-learn in /usr/local/lib/python3.11/dist-packages (from sentence-transformers) (1.6.1)\n",
            "Requirement already satisfied: scipy in /usr/local/lib/python3.11/dist-packages (from sentence-transformers) (1.14.1)\n",
            "Requirement already satisfied: huggingface-hub>=0.20.0 in /usr/local/lib/python3.11/dist-packages (from sentence-transformers) (0.28.1)\n",
            "Requirement already satisfied: Pillow in /usr/local/lib/python3.11/dist-packages (from sentence-transformers) (11.1.0)\n",
            "Requirement already satisfied: filelock in /usr/local/lib/python3.11/dist-packages (from huggingface-hub>=0.20.0->sentence-transformers) (3.17.0)\n",
            "Requirement already satisfied: fsspec>=2023.5.0 in /usr/local/lib/python3.11/dist-packages (from huggingface-hub>=0.20.0->sentence-transformers) (2024.10.0)\n",
            "Requirement already satisfied: packaging>=20.9 in /usr/local/lib/python3.11/dist-packages (from huggingface-hub>=0.20.0->sentence-transformers) (24.2)\n",
            "Requirement already satisfied: pyyaml>=5.1 in /usr/local/lib/python3.11/dist-packages (from huggingface-hub>=0.20.0->sentence-transformers) (6.0.2)\n",
            "Requirement already satisfied: requests in /usr/local/lib/python3.11/dist-packages (from huggingface-hub>=0.20.0->sentence-transformers) (2.32.3)\n",
            "Requirement already satisfied: typing-extensions>=3.7.4.3 in /usr/local/lib/python3.11/dist-packages (from huggingface-hub>=0.20.0->sentence-transformers) (4.12.2)\n",
            "Requirement already satisfied: networkx in /usr/local/lib/python3.11/dist-packages (from torch>=1.11.0->sentence-transformers) (3.4.2)\n",
            "Requirement already satisfied: jinja2 in /usr/local/lib/python3.11/dist-packages (from torch>=1.11.0->sentence-transformers) (3.1.6)\n",
            "Requirement already satisfied: nvidia-cuda-nvrtc-cu12==12.4.127 in /usr/local/lib/python3.11/dist-packages (from torch>=1.11.0->sentence-transformers) (12.4.127)\n",
            "Requirement already satisfied: nvidia-cuda-runtime-cu12==12.4.127 in /usr/local/lib/python3.11/dist-packages (from torch>=1.11.0->sentence-transformers) (12.4.127)\n",
            "Requirement already satisfied: nvidia-cuda-cupti-cu12==12.4.127 in /usr/local/lib/python3.11/dist-packages (from torch>=1.11.0->sentence-transformers) (12.4.127)\n",
            "Requirement already satisfied: nvidia-cudnn-cu12==9.1.0.70 in /usr/local/lib/python3.11/dist-packages (from torch>=1.11.0->sentence-transformers) (9.1.0.70)\n",
            "Requirement already satisfied: nvidia-cublas-cu12==12.4.5.8 in /usr/local/lib/python3.11/dist-packages (from torch>=1.11.0->sentence-transformers) (12.4.5.8)\n",
            "Requirement already satisfied: nvidia-cufft-cu12==11.2.1.3 in /usr/local/lib/python3.11/dist-packages (from torch>=1.11.0->sentence-transformers) (11.2.1.3)\n",
            "Requirement already satisfied: nvidia-curand-cu12==10.3.5.147 in /usr/local/lib/python3.11/dist-packages (from torch>=1.11.0->sentence-transformers) (10.3.5.147)\n",
            "Requirement already satisfied: nvidia-cusolver-cu12==11.6.1.9 in /usr/local/lib/python3.11/dist-packages (from torch>=1.11.0->sentence-transformers) (11.6.1.9)\n",
            "Requirement already satisfied: nvidia-cusparse-cu12==12.3.1.170 in /usr/local/lib/python3.11/dist-packages (from torch>=1.11.0->sentence-transformers) (12.3.1.170)\n",
            "Requirement already satisfied: nvidia-nccl-cu12==2.21.5 in /usr/local/lib/python3.11/dist-packages (from torch>=1.11.0->sentence-transformers) (2.21.5)\n",
            "Requirement already satisfied: nvidia-nvtx-cu12==12.4.127 in /usr/local/lib/python3.11/dist-packages (from torch>=1.11.0->sentence-transformers) (12.4.127)\n",
            "Requirement already satisfied: nvidia-nvjitlink-cu12==12.4.127 in /usr/local/lib/python3.11/dist-packages (from torch>=1.11.0->sentence-transformers) (12.4.127)\n",
            "Requirement already satisfied: triton==3.1.0 in /usr/local/lib/python3.11/dist-packages (from torch>=1.11.0->sentence-transformers) (3.1.0)\n",
            "Requirement already satisfied: sympy==1.13.1 in /usr/local/lib/python3.11/dist-packages (from torch>=1.11.0->sentence-transformers) (1.13.1)\n",
            "Requirement already satisfied: mpmath<1.4,>=1.1.0 in /usr/local/lib/python3.11/dist-packages (from sympy==1.13.1->torch>=1.11.0->sentence-transformers) (1.3.0)\n",
            "Requirement already satisfied: numpy>=1.17 in /usr/local/lib/python3.11/dist-packages (from transformers<5.0.0,>=4.41.0->sentence-transformers) (1.26.4)\n",
            "Requirement already satisfied: regex!=2019.12.17 in /usr/local/lib/python3.11/dist-packages (from transformers<5.0.0,>=4.41.0->sentence-transformers) (2024.11.6)\n",
            "Requirement already satisfied: tokenizers<0.22,>=0.21 in /usr/local/lib/python3.11/dist-packages (from transformers<5.0.0,>=4.41.0->sentence-transformers) (0.21.0)\n",
            "Requirement already satisfied: safetensors>=0.4.1 in /usr/local/lib/python3.11/dist-packages (from transformers<5.0.0,>=4.41.0->sentence-transformers) (0.5.3)\n",
            "Requirement already satisfied: joblib>=1.2.0 in /usr/local/lib/python3.11/dist-packages (from scikit-learn->sentence-transformers) (1.4.2)\n",
            "Requirement already satisfied: threadpoolctl>=3.1.0 in /usr/local/lib/python3.11/dist-packages (from scikit-learn->sentence-transformers) (3.5.0)\n",
            "Requirement already satisfied: MarkupSafe>=2.0 in /usr/local/lib/python3.11/dist-packages (from jinja2->torch>=1.11.0->sentence-transformers) (3.0.2)\n",
            "Requirement already satisfied: charset-normalizer<4,>=2 in /usr/local/lib/python3.11/dist-packages (from requests->huggingface-hub>=0.20.0->sentence-transformers) (3.4.1)\n",
            "Requirement already satisfied: idna<4,>=2.5 in /usr/local/lib/python3.11/dist-packages (from requests->huggingface-hub>=0.20.0->sentence-transformers) (3.10)\n",
            "Requirement already satisfied: urllib3<3,>=1.21.1 in /usr/local/lib/python3.11/dist-packages (from requests->huggingface-hub>=0.20.0->sentence-transformers) (2.3.0)\n",
            "Requirement already satisfied: certifi>=2017.4.17 in /usr/local/lib/python3.11/dist-packages (from requests->huggingface-hub>=0.20.0->sentence-transformers) (2025.1.31)\n",
            "Requirement already satisfied: weaviate-client in /usr/local/lib/python3.11/dist-packages (4.11.1)\n",
            "Requirement already satisfied: httpx<0.29.0,>=0.26.0 in /usr/local/lib/python3.11/dist-packages (from weaviate-client) (0.28.1)\n",
            "Requirement already satisfied: validators==0.34.0 in /usr/local/lib/python3.11/dist-packages (from weaviate-client) (0.34.0)\n",
            "Requirement already satisfied: authlib<1.3.2,>=1.2.1 in /usr/local/lib/python3.11/dist-packages (from weaviate-client) (1.3.1)\n",
            "Requirement already satisfied: pydantic<3.0.0,>=2.8.0 in /usr/local/lib/python3.11/dist-packages (from weaviate-client) (2.10.6)\n",
            "Requirement already satisfied: grpcio<2.0.0,>=1.66.2 in /usr/local/lib/python3.11/dist-packages (from weaviate-client) (1.71.0)\n",
            "Requirement already satisfied: grpcio-tools<2.0.0,>=1.66.2 in /usr/local/lib/python3.11/dist-packages (from weaviate-client) (1.71.0)\n",
            "Requirement already satisfied: grpcio-health-checking<2.0.0,>=1.66.2 in /usr/local/lib/python3.11/dist-packages (from weaviate-client) (1.71.0)\n",
            "Requirement already satisfied: cryptography in /usr/local/lib/python3.11/dist-packages (from authlib<1.3.2,>=1.2.1->weaviate-client) (43.0.3)\n",
            "Requirement already satisfied: protobuf<6.0dev,>=5.26.1 in /usr/local/lib/python3.11/dist-packages (from grpcio-health-checking<2.0.0,>=1.66.2->weaviate-client) (5.29.3)\n",
            "Requirement already satisfied: setuptools in /usr/local/lib/python3.11/dist-packages (from grpcio-tools<2.0.0,>=1.66.2->weaviate-client) (75.1.0)\n",
            "Requirement already satisfied: anyio in /usr/local/lib/python3.11/dist-packages (from httpx<0.29.0,>=0.26.0->weaviate-client) (3.7.1)\n",
            "Requirement already satisfied: certifi in /usr/local/lib/python3.11/dist-packages (from httpx<0.29.0,>=0.26.0->weaviate-client) (2025.1.31)\n",
            "Requirement already satisfied: httpcore==1.* in /usr/local/lib/python3.11/dist-packages (from httpx<0.29.0,>=0.26.0->weaviate-client) (1.0.7)\n",
            "Requirement already satisfied: idna in /usr/local/lib/python3.11/dist-packages (from httpx<0.29.0,>=0.26.0->weaviate-client) (3.10)\n",
            "Requirement already satisfied: h11<0.15,>=0.13 in /usr/local/lib/python3.11/dist-packages (from httpcore==1.*->httpx<0.29.0,>=0.26.0->weaviate-client) (0.14.0)\n",
            "Requirement already satisfied: annotated-types>=0.6.0 in /usr/local/lib/python3.11/dist-packages (from pydantic<3.0.0,>=2.8.0->weaviate-client) (0.7.0)\n",
            "Requirement already satisfied: pydantic-core==2.27.2 in /usr/local/lib/python3.11/dist-packages (from pydantic<3.0.0,>=2.8.0->weaviate-client) (2.27.2)\n",
            "Requirement already satisfied: typing-extensions>=4.12.2 in /usr/local/lib/python3.11/dist-packages (from pydantic<3.0.0,>=2.8.0->weaviate-client) (4.12.2)\n",
            "Requirement already satisfied: sniffio>=1.1 in /usr/local/lib/python3.11/dist-packages (from anyio->httpx<0.29.0,>=0.26.0->weaviate-client) (1.3.1)\n",
            "Requirement already satisfied: cffi>=1.12 in /usr/local/lib/python3.11/dist-packages (from cryptography->authlib<1.3.2,>=1.2.1->weaviate-client) (1.17.1)\n",
            "Requirement already satisfied: pycparser in /usr/local/lib/python3.11/dist-packages (from cffi>=1.12->cryptography->authlib<1.3.2,>=1.2.1->weaviate-client) (2.22)\n"
          ]
        }
      ],
      "source": [
        "!pip install groq yfinance agno\n",
        "!pip install groq duckduckgo-search newspaper4k lxml_html_clean agno\n",
        "!pip install pypdf agno\n",
        "!pip install sentence-transformers\n",
        "!pip install weaviate-client"
      ]
    },
    {
      "cell_type": "code",
      "source": [
        "!pip install groq agno sentence-transformers pypdf weaviate-client python-dotenv --upgrade --quiet"
      ],
      "metadata": {
        "id": "kd7NrCxCaq6r"
      },
      "execution_count": null,
      "outputs": []
    },
    {
      "cell_type": "code",
      "source": [
        "!python --version"
      ],
      "metadata": {
        "colab": {
          "base_uri": "https://localhost:8080/"
        },
        "id": "KNuQsG8HWgka",
        "outputId": "ddd38423-2d66-454b-c400-50358be88e89"
      },
      "execution_count": null,
      "outputs": [
        {
          "output_type": "stream",
          "name": "stdout",
          "text": [
            "Python 3.11.11\n"
          ]
        }
      ]
    },
    {
      "cell_type": "markdown",
      "source": [
        "## Set Environment Variables"
      ],
      "metadata": {
        "id": "RKI8SzcGBz6H"
      }
    },
    {
      "cell_type": "code",
      "source": [
        "import os\n",
        "from google.colab import userdata\n",
        "\n",
        "os.environ['GROQ_API_KEY'] = userdata.get('GROQ_API_KEY')\n",
        "os.environ['PHI_API_KEY'] = userdata.get('PHI_API_KEY') #INPUT YOUR AGNO KEY (I had this key before the rebrand)\n",
        "WEAVIATE_URL = userdata.get('WEAVIATE_URL')\n",
        "WEAVIATE_API_KEY = userdata.get('WEAVIATE_API_KEY')\n",
        "\n",
        "print(\"API keys have been set!\")\n"
      ],
      "metadata": {
        "colab": {
          "base_uri": "https://localhost:8080/"
        },
        "id": "abgmBOqLA4Bz",
        "outputId": "b9a87f1b-bf62-4570-a9b9-c2b7226e4f8f"
      },
      "execution_count": null,
      "outputs": [
        {
          "output_type": "stream",
          "name": "stdout",
          "text": [
            "API keys have been set!\n"
          ]
        }
      ]
    },
    {
      "cell_type": "markdown",
      "source": [
        "### Loading Docs in Colab Folder\n",
        "We can also upload pdf's directly to the Colab and access it.\n"
      ],
      "metadata": {
        "id": "5mciMyw0ThFz"
      }
    },
    {
      "cell_type": "code",
      "source": [
        "import os\n",
        "from typing import List, Tuple, Union\n",
        "\n",
        "os.environ['data_path'] = \"/content/\"\n",
        "os.environ['doc_name'] = \"cpcdc-commercial-lending-program-loan-policy.pdf\"\n",
        "\n",
        "print(\"Document loaded!\")"
      ],
      "metadata": {
        "colab": {
          "base_uri": "https://localhost:8080/"
        },
        "id": "kJx34T0fTip1",
        "outputId": "20cb645e-010f-40d4-a3da-3e95fc1c8616"
      },
      "execution_count": null,
      "outputs": [
        {
          "output_type": "stream",
          "name": "stdout",
          "text": [
            "Document loaded!\n"
          ]
        }
      ]
    },
    {
      "cell_type": "markdown",
      "source": [
        "##Application 1: Simple RAG based query: With one **VectorDB**"
      ],
      "metadata": {
        "id": "d-dZHK-UDkyg"
      }
    },
    {
      "cell_type": "markdown",
      "source": [
        "## Step 1: Creating the Embedding Model\n",
        "\n",
        "### Understanding Embeddings\n",
        "Text embeddings are numerical representations of text that capture semantic meaning. We use them to:\n",
        "- Convert text into vectors for similarity search\n",
        "- Enable efficient document retrieval\n",
        "- Support semantic search capabilities\n",
        "\n",
        "The `EmbeddingModel` class below implements this functionality using the SentenceTransformer library.\n"
      ],
      "metadata": {
        "id": "iStL2bMGU6Ur"
      }
    },
    {
      "cell_type": "code",
      "source": [
        "from sentence_transformers import SentenceTransformer\n",
        "\n",
        "# Define the embedding model class\n",
        "class EmbeddingModel:\n",
        "    def __init__(self):\n",
        "        self.model = SentenceTransformer('sentence-transformers/paraphrase-MiniLM-L6-v2')\n",
        "        self.dimensions = 384\n",
        "\n",
        "    def get_embedding_and_usage(self, text: Union[str, List[str]]) -> Tuple[Union[List[List[float]], List[float]], dict]:\n",
        "        if isinstance(text, str):\n",
        "            embedding = self.model.encode(text)\n",
        "            embedding_list = embedding.tolist()\n",
        "            usage = {\"prompt_tokens\": len(text.split()), \"total_tokens\": len(text.split())}\n",
        "            return embedding_list, usage\n",
        "        else:\n",
        "            embeddings = self.model.encode(text)\n",
        "            embedding_list = embeddings.tolist()\n",
        "            total_tokens = sum(len(t.split()) for t in text)\n",
        "            usage = {\"prompt_tokens\": total_tokens, \"total_tokens\": total_tokens}\n",
        "            return embedding_list, usage\n",
        "\n",
        "    def get_embedding(self, text: Union[str, List[str]]) -> Union[List[float], List[List[float]]]:\n",
        "        if isinstance(text, str):\n",
        "            return self.model.encode(text).tolist()\n",
        "        return self.model.encode(text).tolist()"
      ],
      "metadata": {
        "id": "Dv1HHHXhU5s6"
      },
      "execution_count": null,
      "outputs": []
    },
    {
      "cell_type": "markdown",
      "source": [
        "#### Key Components:\n",
        "- We use the `paraphrase-MiniLM-L6-v2` model, which provides a good balance of speed and accuracy\n",
        "- The model outputs 384-dimensional vectors\n",
        "- We track token usage for monitoring purposes\n"
      ],
      "metadata": {
        "id": "XgWZFeOaVE61"
      }
    },
    {
      "cell_type": "markdown",
      "source": [
        "## Step 2: Initiatlizing the Vector database\n",
        "\n",
        "A vector database is crucial for efficient storage and retrieval of document embeddings. We'll use Weaviate, a powerful vector search engine that enables semantic search capabilities.\n",
        "\n",
        "### Understanding Vector Databases\n",
        "- Vector databases store and index high-dimensional vectors (embeddings)\n",
        "- Enable efficient similarity search\n",
        "- Support complex queries and filtering\n",
        "- Scale well with large document collections\n",
        "\n",
        "### Weaviate Setup"
      ],
      "metadata": {
        "id": "3iPQ-W7eVIty"
      }
    },
    {
      "cell_type": "code",
      "source": [
        "from agno.vectordb.weaviate import Weaviate\n",
        "from agno.vectordb.weaviate.index import Distance, VectorIndex\n",
        "\n",
        "weaviate_vector_db = Weaviate(\n",
        "          wcd_url=WEAVIATE_URL,\n",
        "          wcd_api_key=WEAVIATE_API_KEY,\n",
        "          vector_index=VectorIndex.HNSW, # a more complex index that is slower to build, but it scales well to large datasets as queries have a logarithmic time complexity.\n",
        "          distance= Distance.COSINE,\n",
        "          embedder=EmbeddingModel()\n",
        "      )"
      ],
      "metadata": {
        "id": "x8LNzDCNVBM4"
      },
      "execution_count": null,
      "outputs": []
    },
    {
      "cell_type": "markdown",
      "source": [
        "#### Key Components:\n",
        "1. `wcd_url`: The URL of your Weaviate instance\n",
        "2. `wcd_api_key`: Authentication key for accessing Weaviate\n",
        "3. `embedder`: The embedding model we created earlier\n",
        "\n",
        "### Why Weaviate?\n",
        "- Open-source and scalable\n",
        "- Supports hybrid search (combination of vector and keyword search)\n",
        "- Built-in filtering and aggregation capabilities\n",
        "- Real-time updates and queries\n"
      ],
      "metadata": {
        "id": "-omfITE7V0S0"
      }
    },
    {
      "cell_type": "markdown",
      "source": [
        "## Step 3: Initiailizing the Knowledge Base\n",
        "\n",
        "The knowledge base is where we store and manage our document collection. It handles:\n",
        "- Document loading and parsing\n",
        "- Text chunking and preprocessing\n",
        "- Integration with the vector database\n",
        "\n",
        "\n",
        "### Setting Up the Knowledge Base"
      ],
      "metadata": {
        "id": "0iME8x1gV42O"
      }
    },
    {
      "cell_type": "code",
      "source": [
        "from pathlib import Path\n",
        "from agno.knowledge.pdf import PDFKnowledgeBase\n",
        "\n",
        "# Create PDF URL knowledge base\n",
        "pdf_paths=Path(os.path.join(os.environ['data_path']), os.environ['doc_name'])\n",
        "print(\"The document used as knowledge base:\",pdf_paths)\n",
        "knowledge_base = PDFKnowledgeBase(\n",
        "    path=pdf_paths,\n",
        "    vector_db=weaviate_vector_db,\n",
        ")"
      ],
      "metadata": {
        "colab": {
          "base_uri": "https://localhost:8080/"
        },
        "id": "pAPxc0_IV8g3",
        "outputId": "b22c2e9f-ec76-4354-c42a-5c65568ad2cd"
      },
      "execution_count": null,
      "outputs": [
        {
          "output_type": "stream",
          "name": "stdout",
          "text": [
            "The document used as knowledge base: /content/cpcdc-commercial-lending-program-loan-policy.pdf\n"
          ]
        }
      ]
    },
    {
      "cell_type": "markdown",
      "source": [
        "#### Components Explained:\n",
        "1. `PDFKnowledgeBase`: Specialized class for handling PDF documents\n",
        "2. `path`: Location of the PDF files to process\n",
        "3. `vector_db`: The Weaviate instance we created earlier\n",
        "\n",
        "### Knowledge Base Features:\n",
        "- Automatic PDF parsing and text extraction\n",
        "- Document chunking for optimal retrieval: by default, the document is chunked in fixed sizes of 3000 characters: https://github.com/agno-agi/agno/blob/07e870a37803163af453c626bb5bce4f22b042c0/libs/agno/agno/document/chunking/fixed.py#L7\n",
        "\n",
        "- Metadata extraction and management\n",
        "- Integration with vector search\n",
        "\n",
        "### Best Practices:\n",
        "1. Organize documents in a clear folder structure\n",
        "2. Use consistent naming conventions\n",
        "3. Monitor document processing for errors\n",
        "4. Validate document content after loading\n"
      ],
      "metadata": {
        "id": "A1VfzFJfWDqR"
      }
    },
    {
      "cell_type": "markdown",
      "source": [
        "## Step 4: Document QA System Implementation\n",
        "\n",
        "The `DocumentQA` class is our main implementation that combines all components into a working system. Let's understand its structure and functionality:\n",
        "\n",
        "### Key Methods:\n",
        "1. `initialize_agent_with_data`: Sets up the knowledge base with PDF documents\n",
        "2. `show_sample_content`: Displays examples from the loaded documents\n",
        "3. `ask`: Processes questions and generates answers using RAG\n",
        "\n",
        "### Understanding the RAG Pipeline\n",
        "1. Document ingestion and embedding\n",
        "2. Vector storage in Weaviate\n",
        "3. Similarity search for relevant content\n",
        "4. LLM-powered response generation\n"
      ],
      "metadata": {
        "id": "10vbtAkuWHX5"
      }
    },
    {
      "cell_type": "code",
      "source": [
        "from agno.agent import Agent\n",
        "from agno.models.groq import Groq\n",
        "from agno.knowledge.agent import AgentKnowledge\n",
        "\n",
        "class DocumentQA:\n",
        "    def __init__(self, embedding_model: EmbeddingModel, knowledge_base: AgentKnowledge):\n",
        "        # Initialize embedder\n",
        "        self.embedder = embedding_model\n",
        "        # Initialize Groq model\n",
        "        self.chat_model = Groq(id=\"llama3-8b-8192\")\n",
        "        self.current_knowledge_base = knowledge_base\n",
        "        self.agent = None\n",
        "\n",
        "\n",
        "    def initialize_agent_with_data(self):\n",
        "        \"\"\"Load a PDF from a URL\"\"\"\n",
        "        # Initialize the Agent\n",
        "        self.agent = Agent(\n",
        "        knowledge=self.current_knowledge_base,\n",
        "        search_knowledge=True,\n",
        "        model=self.chat_model\n",
        "          )\n",
        "\n",
        "        # Load knowledge base\n",
        "        print(\"Loading knowledge base...\")\n",
        "        self.current_knowledge_base.load(recreate=True)\n",
        "        print(\"✅ Knowledge base loaded successfully!\")\n",
        "\n",
        "        # Show sample content\n",
        "        #self.show_sample_content()\n",
        "\n",
        "\n",
        "    def show_sample_content(self, num_samples: int = 5):\n",
        "        \"\"\"Show sample content from the knowledge base\"\"\"\n",
        "\n",
        "        docs = self.current_knowledge_base.search(\"\")\n",
        "        print(\"\\nSample documents in knowledge base:\")\n",
        "        print(\"-\" * 50)\n",
        "        for i, doc in enumerate(docs[:num_samples], 1):\n",
        "            print(f\"\\nDocument {i}:\")\n",
        "            if hasattr(doc, 'content'):\n",
        "                print(doc.content[:200] + \"...\" if len(doc.content) > 200 else doc.content)\n",
        "            elif hasattr(doc, 'text'):\n",
        "                print(doc.text[:200] + \"...\" if len(doc.text) > 200 else doc.text)\n",
        "\n",
        "    def ask(self, question: str):\n",
        "        \"\"\"Ask a question about the loaded document\"\"\"\n",
        "        if not self.current_knowledge_base or not self.agent:\n",
        "            print(\"Please load a document first!\")\n",
        "            return\n",
        "\n",
        "        self.current_knowledge_base.vector_db.get_client().connect()\n",
        "        print(f\"\\nQ: {question}\")\n",
        "        try:\n",
        "            # Get relevant documents\n",
        "            relevant_docs = self.current_knowledge_base.search(question)\n",
        "\n",
        "            # Build context from relevant documents\n",
        "            context = \"\\n\".join([doc.content if hasattr(doc, 'content') else doc.text\n",
        "                               for doc in relevant_docs])\n",
        "\n",
        "            # Create a prompt that includes the context\n",
        "            full_prompt = f\"\"\"Based on the following content:\n",
        "\n",
        "            {context}\n",
        "\n",
        "            Question: {question}\n",
        "\n",
        "            Please provide a detailed answer based ONLY on the information provided above.\"\"\"\n",
        "\n",
        "            # Get response with context\n",
        "            response = self.agent.run(full_prompt)\n",
        "            #print(f\"\\nA: {response.content}\")\n",
        "\n",
        "            return response.content\n",
        "\n",
        "            #You can choose to return the context here for Evaluation\n",
        "            #return response.content, context\n",
        "\n",
        "        except Exception as e:\n",
        "            print(f\"Error: {e}\")\n",
        "            import traceback\n",
        "            print(traceback.format_exc())\n",
        "\n"
      ],
      "metadata": {
        "id": "hYRB88A8WRPp"
      },
      "execution_count": null,
      "outputs": []
    },
    {
      "cell_type": "markdown",
      "source": [
        "### Step 5: Initialize Agent and query Document"
      ],
      "metadata": {
        "id": "7W2-LSOZWXXX"
      }
    },
    {
      "cell_type": "code",
      "source": [
        "qa = DocumentQA(embedding_model=EmbeddingModel(), knowledge_base=knowledge_base)"
      ],
      "metadata": {
        "id": "10sk00BKWbtc"
      },
      "execution_count": null,
      "outputs": []
    },
    {
      "cell_type": "code",
      "source": [
        "qa.initialize_agent_with_data()"
      ],
      "metadata": {
        "colab": {
          "base_uri": "https://localhost:8080/",
          "height": 480
        },
        "id": "_GoLdFCPWhFy",
        "outputId": "ba2a6b57-7a6d-4705-d68d-14b3e4567855"
      },
      "execution_count": null,
      "outputs": [
        {
          "output_type": "stream",
          "name": "stdout",
          "text": [
            "Loading knowledge base...\n"
          ]
        },
        {
          "output_type": "display_data",
          "data": {
            "text/plain": [
              "\u001b[34mINFO    \u001b[0m Dropping collection                                                                                       \n"
            ],
            "text/html": [
              "<pre style=\"white-space:pre;overflow-x:auto;line-height:normal;font-family:Menlo,'DejaVu Sans Mono',consolas,'Courier New',monospace\"><span style=\"color: #000080; text-decoration-color: #000080\">INFO    </span> Dropping collection                                                                                       \n",
              "</pre>\n"
            ]
          },
          "metadata": {}
        },
        {
          "output_type": "display_data",
          "data": {
            "text/plain": [
              "\u001b[34mINFO    \u001b[0m Initializing Weaviate Cloud client                                                                        \n"
            ],
            "text/html": [
              "<pre style=\"white-space:pre;overflow-x:auto;line-height:normal;font-family:Menlo,'DejaVu Sans Mono',consolas,'Courier New',monospace\"><span style=\"color: #000080; text-decoration-color: #000080\">INFO    </span> Initializing Weaviate Cloud client                                                                        \n",
              "</pre>\n"
            ]
          },
          "metadata": {}
        },
        {
          "output_type": "display_data",
          "data": {
            "text/plain": [
              "\u001b[34mINFO    \u001b[0m Creating collection                                                                                       \n"
            ],
            "text/html": [
              "<pre style=\"white-space:pre;overflow-x:auto;line-height:normal;font-family:Menlo,'DejaVu Sans Mono',consolas,'Courier New',monospace\"><span style=\"color: #000080; text-decoration-color: #000080\">INFO    </span> Creating collection                                                                                       \n",
              "</pre>\n"
            ]
          },
          "metadata": {}
        },
        {
          "output_type": "display_data",
          "data": {
            "text/plain": [
              "\u001b[34mINFO    \u001b[0m Loading knowledge base                                                                                    \n"
            ],
            "text/html": [
              "<pre style=\"white-space:pre;overflow-x:auto;line-height:normal;font-family:Menlo,'DejaVu Sans Mono',consolas,'Courier New',monospace\"><span style=\"color: #000080; text-decoration-color: #000080\">INFO    </span> Loading knowledge base                                                                                    \n",
              "</pre>\n"
            ]
          },
          "metadata": {}
        },
        {
          "output_type": "display_data",
          "data": {
            "text/plain": [
              "\u001b[34mINFO    \u001b[0m Reading: cpcdc-commercial-lending-program-loan-policy                                                     \n"
            ],
            "text/html": [
              "<pre style=\"white-space:pre;overflow-x:auto;line-height:normal;font-family:Menlo,'DejaVu Sans Mono',consolas,'Courier New',monospace\"><span style=\"color: #000080; text-decoration-color: #000080\">INFO    </span> Reading: cpcdc-commercial-lending-program-loan-policy                                                     \n",
              "</pre>\n"
            ]
          },
          "metadata": {}
        },
        {
          "output_type": "display_data",
          "data": {
            "text/plain": [
              "\u001b[34mINFO    \u001b[0m Added \u001b[1;36m20\u001b[0m documents to knowledge base                                                                      \n"
            ],
            "text/html": [
              "<pre style=\"white-space:pre;overflow-x:auto;line-height:normal;font-family:Menlo,'DejaVu Sans Mono',consolas,'Courier New',monospace\"><span style=\"color: #000080; text-decoration-color: #000080\">INFO    </span> Added <span style=\"color: #008080; text-decoration-color: #008080; font-weight: bold\">20</span> documents to knowledge base                                                                      \n",
              "</pre>\n"
            ]
          },
          "metadata": {}
        },
        {
          "output_type": "stream",
          "name": "stdout",
          "text": [
            "✅ Knowledge base loaded successfully!\n",
            "\n",
            "Sample documents in knowledge base:\n",
            "--------------------------------------------------\n",
            "\n",
            "Document 1:\n",
            " 6 2) Executive officers are defined as the executive director and the officers (if any) appointed by the executive director or the Board of Directors of the CDC. 3) Directors shall be defined as any ...\n",
            "\n",
            "Document 2:\n",
            " 16 XII. Portfolio Management The Portfolio Manager, with the Executive Director’s oversight, is responsible for tracking and reporting to the Board and Loan Committee the performance of the portfolio...\n",
            "\n",
            "Document 3:\n",
            " 4 I. Purpose of this policy The policies and procedures outlined in this document provide a framework within which the Citizen Potawatomi Community Development Corporation – Commercial Lending Progra...\n",
            "\n",
            "Document 4:\n",
            " 19 EXHIBITS Exhibit A. Application Form See attached Exhibit B. 1. Summary of Loan Rating System Loan Rating Total Points Loan Loss Reserve Acceptable for Approval? Monitoring Frequency Lo High A 23 ...\n",
            "\n",
            "Document 5:\n",
            " 10 VII. Loan Underwriting A. Initial Screening Loan Assistant will: 1. screen potential applicants to confirm that they meet the eligibility requirements in III A and B, 2. give them a copy of the Ap...\n"
          ]
        }
      ]
    },
    {
      "cell_type": "markdown",
      "source": [
        "### Start asking questions from the document"
      ],
      "metadata": {
        "id": "P2ujJmCeb54V"
      }
    },
    {
      "cell_type": "code",
      "source": [
        "qa.ask(\"What is the maximum loan amount?\")"
      ],
      "metadata": {
        "colab": {
          "base_uri": "https://localhost:8080/",
          "height": 142
        },
        "id": "5Z9EJ-JfcCHD",
        "outputId": "a71617bd-646f-4c9e-b3ea-8a366cc18a1d"
      },
      "execution_count": null,
      "outputs": [
        {
          "output_type": "stream",
          "name": "stdout",
          "text": [
            "\n",
            "Q: What is the maximum loan amount?\n",
            "\n",
            "A: According to the text, the maximum loan amount is $12,500,000, but loans above $300,000 must be reviewed and approved on a case-by-case basis by the full Board of Directors.\n"
          ]
        },
        {
          "output_type": "execute_result",
          "data": {
            "text/plain": [
              "'According to the text, the maximum loan amount is $12,500,000, but loans above $300,000 must be reviewed and approved on a case-by-case basis by the full Board of Directors.'"
            ],
            "application/vnd.google.colaboratory.intrinsic+json": {
              "type": "string"
            }
          },
          "metadata": {},
          "execution_count": 51
        }
      ]
    },
    {
      "cell_type": "code",
      "source": [
        "qa.ask(\"Summarize the key points in this document\")"
      ],
      "metadata": {
        "colab": {
          "base_uri": "https://localhost:8080/",
          "height": 749
        },
        "id": "2lMg18-ob5J-",
        "outputId": "bc64186e-56b9-454f-ab42-5dfd3dd57e32"
      },
      "execution_count": null,
      "outputs": [
        {
          "output_type": "stream",
          "name": "stdout",
          "text": [
            "\n",
            "Q: Summarize the key points in this document\n",
            "\n",
            "A: Based on the provided document, the key points are as follows:\n",
            "\n",
            "1. **Portfolio Management**: The Portfolio Manager is responsible for tracking and reporting the performance of the portfolio to the Board and Loan Committee. The Portfolio Manager presents the Loan Report and Portfolio Report at each Board and Loan Committee meeting.\n",
            "\n",
            "2. **Loan Fund Essentials**:\n",
            "\t* Loan Fund Equity: The Loan Fund maintains a net asset balance of at least 20% of the sum of all borrowed funds plus net assets dedicated or restricted to lending.\n",
            "\t* Loan Fund Investment Guidelines: Undisbursed loan funds are deposited in FDIC-insured institutions, and interest-bearing bank accounts are sought while preserving sufficient liquidity.\n",
            "\n",
            "3. **Loan Rating and Loan Loss Reserve**:\n",
            "\t* Loan Rating: The Portfolio Manager determines the necessary change, if any, to the Loan Rating and Loan Loss Reserve to reflect the borrowers' delinquency status.\n",
            "\t* Loan Loss Reserve: The Loan Loss Reserve is the necessary change to the loan rating and loan loss reserve to reflect the borrowers' delinquency status.\n",
            "\n",
            "4. **Loan Fund Eligibility**:\n",
            "\t* Ineligible Businesses: The Loan Fund does not provide financing to businesses whose primary activity is the sale or production of violent or unsafe products or services, or businesses engaged in speculative enterprises, pyramid or networking schemes, fraternal organizations, or pornography.\n",
            "\n",
            "5. **Borrower Disclosure and Monitoring**:\n",
            "\t* Periodic Disclosure from Borrowers: The Portfolio Manager is responsible for confirming receipt of periodic disclosures required under the Loan Agreement.\n",
            "\t* Monitoring Responsibility: The Portfolio Manager is responsible for ensuring that Loan Ratings are updated to reflect the current risk profile of each loan in the portfolio.\n",
            "\n",
            "6. **Loan Committee**:\n",
            "\t* Composition: The Loan Committee consists of the Portfolio Manager, Executive Director, and other members with a diversified skill set and knowledge base.\n",
            "\t* Meeting Schedule: The Loan Committee meets as called by the Board Chairman or as part of a Board of Directors meeting.\n",
            "\t* Voting: A quorum exists when three members are present, and decisions are made by simple majority.\n",
            "\n",
            "7. **Loan Fund Operations**:\n",
            "\t* Application Form: There is an attached Exhibit A, which appears to be the Loan Application Form.\n",
            "\t* Loan Rating System: The Loan Rating System appears to be a set of criteria for evaluating loan applications, including the Loan Rating, Loan Loss Reserve, and monitoring frequency.\n",
            "\n",
            "These key points summarize the main aspects of the Loan Fund's operations, including portfolio management, loan rating and loss reserve, borrower disclosure and monitoring, and the Loan Committee's roles and responsibilities.\n"
          ]
        },
        {
          "output_type": "execute_result",
          "data": {
            "text/plain": [
              "\"Based on the provided document, the key points are as follows:\\n\\n1. **Portfolio Management**: The Portfolio Manager is responsible for tracking and reporting the performance of the portfolio to the Board and Loan Committee. The Portfolio Manager presents the Loan Report and Portfolio Report at each Board and Loan Committee meeting.\\n\\n2. **Loan Fund Essentials**:\\n\\t* Loan Fund Equity: The Loan Fund maintains a net asset balance of at least 20% of the sum of all borrowed funds plus net assets dedicated or restricted to lending.\\n\\t* Loan Fund Investment Guidelines: Undisbursed loan funds are deposited in FDIC-insured institutions, and interest-bearing bank accounts are sought while preserving sufficient liquidity.\\n\\n3. **Loan Rating and Loan Loss Reserve**:\\n\\t* Loan Rating: The Portfolio Manager determines the necessary change, if any, to the Loan Rating and Loan Loss Reserve to reflect the borrowers' delinquency status.\\n\\t* Loan Loss Reserve: The Loan Loss Reserve is the necessary change to the loan rating and loan loss reserve to reflect the borrowers' delinquency status.\\n\\n4. **Loan Fund Eligibility**:\\n\\t* Ineligible Businesses: The Loan Fund does not provide financing to businesses whose primary activity is the sale or production of violent or unsafe products or services, or businesses engaged in speculative enterprises, pyramid or networking schemes, fraternal organizations, or pornography.\\n\\n5. **Borrower Disclosure and Monitoring**:\\n\\t* Periodic Disclosure from Borrowers: The Portfolio Manager is responsible for confirming receipt of periodic disclosures required under the Loan Agreement.\\n\\t* Monitoring Responsibility: The Portfolio Manager is responsible for ensuring that Loan Ratings are updated to reflect the current risk profile of each loan in the portfolio.\\n\\n6. **Loan Committee**:\\n\\t* Composition: The Loan Committee consists of the Portfolio Manager, Executive Director, and other members with a diversified skill set and knowledge base.\\n\\t* Meeting Schedule: The Loan Committee meets as called by the Board Chairman or as part of a Board of Directors meeting.\\n\\t* Voting: A quorum exists when three members are present, and decisions are made by simple majority.\\n\\n7. **Loan Fund Operations**:\\n\\t* Application Form: There is an attached Exhibit A, which appears to be the Loan Application Form.\\n\\t* Loan Rating System: The Loan Rating System appears to be a set of criteria for evaluating loan applications, including the Loan Rating, Loan Loss Reserve, and monitoring frequency.\\n\\nThese key points summarize the main aspects of the Loan Fund's operations, including portfolio management, loan rating and loss reserve, borrower disclosure and monitoring, and the Loan Committee's roles and responsibilities.\""
            ],
            "application/vnd.google.colaboratory.intrinsic+json": {
              "type": "string"
            }
          },
          "metadata": {},
          "execution_count": 43
        }
      ]
    },
    {
      "cell_type": "markdown",
      "source": [
        "##Application 2: Deep Financial Research Agent"
      ],
      "metadata": {
        "id": "kK5bKdeIE0fI"
      }
    },
    {
      "cell_type": "markdown",
      "source": [
        "Agent Team - Your Professional News & Finance Squad!\n",
        "\n",
        "This example shows how to create a powerful team of AI agents working together\n",
        "to provide comprehensive financial analysis and news reporting. The team consists of:\n",
        "1. Web Agent: Searches and analyzes latest news\n",
        "2. Finance Agent: Analyzes financial data and market trends\n",
        "3. Lead Editor: Coordinates and combines insights from both agents\n",
        "\n",
        "Example prompts to try:\n",
        "- \"What's the latest news and financial performance of Apple (AAPL)?\"\n",
        "- \"Analyze the impact of AI developments on NVIDIA's stock (NVDA)\"\n",
        "- \"How are EV manufacturers performing? Focus on Tesla (TSLA) and Rivian (RIVN)\"\n",
        "- \"What's the market outlook for semiconductor companies like AMD and Intel?\"\n",
        "- \"Summarize recent developments and stock performance of Microsoft (MSFT)\""
      ],
      "metadata": {
        "id": "SknCJqqiF_9f"
      }
    },
    {
      "cell_type": "code",
      "source": [
        "#!pip install duckduckgo-search yfinance agno\n"
      ],
      "metadata": {
        "id": "yJUD-TANGE1p"
      },
      "execution_count": null,
      "outputs": []
    },
    {
      "cell_type": "code",
      "source": [
        "from textwrap import dedent\n",
        "\n",
        "from agno.agent import Agent\n",
        "from agno.models.groq import Groq\n",
        "from agno.tools.duckduckgo import DuckDuckGoTools\n",
        "from agno.tools.yfinance import YFinanceTools\n",
        "\n",
        "web_agent = Agent(\n",
        "    name=\"Web Agent\",\n",
        "    role=\"Search the web for information\",\n",
        "    model=Groq(id=\"llama-3.1-8b-instant\"),\n",
        "    tools=[DuckDuckGoTools()],\n",
        "    instructions=dedent(\"\"\"\\\n",
        "        You are an experienced financial researcher and news analyst! 🔍\n",
        "\n",
        "        Follow these steps when searching for information:\n",
        "        1. Start with the most recent and relevant sources\n",
        "        2. Cross-reference information from multiple sources\n",
        "        3. Prioritize reputable news outlets and official sources\n",
        "        4. Always cite your sources with links\n",
        "        5. Focus on market-moving news and significant developments\n",
        "\n",
        "        Your style guide:\n",
        "        - Present information in a clear, journalistic style\n",
        "        - Use bullet points for key takeaways\n",
        "        - Include relevant quotes when available\n",
        "        - Specify the date and time for each piece of news\n",
        "        - Highlight market sentiment and industry trends\n",
        "        - End with a brief analysis of the overall narrative\n",
        "        - Pay special attention to regulatory news, earnings reports, and strategic announcements\\\n",
        "    \"\"\"),\n",
        "    show_tool_calls=True,\n",
        "    markdown=True,\n",
        ")\n",
        "\n",
        "finance_agent = Agent(\n",
        "    name=\"Finance Agent\",\n",
        "    role=\"Get financial data\",\n",
        "    model=Groq(id=\"llama-3.1-8b-instant\"),\n",
        "    tools=[\n",
        "        YFinanceTools(stock_price=True, analyst_recommendations=True, company_info=True)\n",
        "    ],\n",
        "    instructions=dedent(\"\"\"\\\n",
        "        You are a skilled financial analyst with expertise in market data! 📊\n",
        "\n",
        "        Follow these steps when analyzing financial data:\n",
        "        1. Start with the latest stock price, trading volume, and daily range\n",
        "        2. Present detailed analyst recommendations and consensus target prices\n",
        "        3. Include key metrics: P/E ratio, market cap, 52-week range\n",
        "        4. Analyze trading patterns and volume trends\n",
        "        5. Compare performance against relevant sector indices\n",
        "\n",
        "        Your style guide:\n",
        "        - Use tables for structured data presentation\n",
        "        - Include clear headers for each data section\n",
        "        - Add brief explanations for technical terms\n",
        "        - Highlight notable changes with emojis (📈 📉)\n",
        "        - Use bullet points for quick insights\n",
        "        - Compare current values with historical averages\n",
        "        - End with a data-driven financial outlook\\\n",
        "    \"\"\"),\n",
        "    show_tool_calls=True,\n",
        "    markdown=True,\n",
        ")\n",
        "\n",
        "agent_team = Agent(\n",
        "    team=[web_agent, finance_agent],\n",
        "    model=Groq(id=\"llama-3.1-8b-instant\"),\n",
        "    instructions=dedent(\"\"\"\\\n",
        "        You are the lead editor of a prestigious financial news desk! 📰\n",
        "\n",
        "        Your role:\n",
        "        1. Coordinate between the web researcher and financial analyst\n",
        "        2. Combine their findings into a compelling narrative\n",
        "        3. Ensure all information is properly sourced and verified\n",
        "        4. Present a balanced view of both news and data\n",
        "        5. Highlight key risks and opportunities\n",
        "\n",
        "        Your style guide:\n",
        "        - Start with an attention-grabbing headline\n",
        "        - Begin with a powerful executive summary\n",
        "        - Present financial data first, followed by news context\n",
        "        - Use clear section breaks between different types of information\n",
        "        - Include relevant charts or tables when available\n",
        "        - Add 'Market Sentiment' section with current mood\n",
        "        - Include a 'Key Takeaways' section at the end\n",
        "        - End with 'Risk Factors' when appropriate\n",
        "        - Sign off with 'Market Watch Team' and the current date\\\n",
        "    \"\"\"),\n",
        "    add_datetime_to_instructions=True,\n",
        "    show_tool_calls=True,\n",
        "    markdown=True,\n",
        ")\n",
        "\n",
        "# Example usage with diverse queries\n",
        "agent_team.print_response(\n",
        "    \"Analyze the impact of AI developments on NVIDIA's stock (NVDA)\", stream=True\n",
        ")\n",
        "\n"
      ],
      "metadata": {
        "colab": {
          "base_uri": "https://localhost:8080/",
          "height": 737,
          "referenced_widgets": [
            "b598ca045dbd4091935718c968274be6",
            "a35567af2b2a4230944e4f033f903c22"
          ]
        },
        "id": "ThnJ42YQFK9z",
        "outputId": "1f01550a-25bb-46e6-c20d-714ca76d8355"
      },
      "execution_count": null,
      "outputs": [
        {
          "output_type": "display_data",
          "data": {
            "text/plain": [
              "Output()"
            ],
            "application/vnd.jupyter.widget-view+json": {
              "version_major": 2,
              "version_minor": 0,
              "model_id": "b598ca045dbd4091935718c968274be6"
            }
          },
          "metadata": {}
        },
        {
          "output_type": "display_data",
          "data": {
            "text/plain": [],
            "text/html": [
              "<pre style=\"white-space:pre;overflow-x:auto;line-height:normal;font-family:Menlo,'DejaVu Sans Mono',consolas,'Courier New',monospace\"></pre>\n"
            ]
          },
          "metadata": {}
        }
      ]
    },
    {
      "cell_type": "markdown",
      "source": [
        "More example prompts to try:\n",
        "Advanced queries to explore:\n",
        "1. \"Compare the financial performance and recent news of major cloud providers (AMZN, MSFT, GOOGL)\"\n",
        "2. \"What's the impact of recent Fed decisions on banking stocks? Focus on JPM and BAC\"\n",
        "3. \"Analyze the gaming industry outlook through ATVI, EA, and TTWO performance\"\n",
        "4. \"How are social media companies performing? Compare META and SNAP\"\n",
        "5. \"What's the latest on AI chip manufacturers and their market position?\"\n"
      ],
      "metadata": {
        "id": "INdEKZ-CG2HF"
      }
    },
    {
      "cell_type": "code",
      "source": [],
      "metadata": {
        "id": "u2s4_QvghnPK"
      },
      "execution_count": null,
      "outputs": []
    }
  ]
}